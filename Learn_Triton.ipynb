{
  "nbformat": 4,
  "nbformat_minor": 0,
  "metadata": {
    "colab": {
      "provenance": [],
      "authorship_tag": "ABX9TyNHfifLOACKMo0EiO2NPekA",
      "include_colab_link": true
    },
    "kernelspec": {
      "name": "python3",
      "display_name": "Python 3"
    },
    "language_info": {
      "name": "python"
    }
  },
  "cells": [
    {
      "cell_type": "markdown",
      "metadata": {
        "id": "view-in-github",
        "colab_type": "text"
      },
      "source": [
        "<a href=\"https://colab.research.google.com/github/soulsharp/Triton_kernels_ViT/blob/main/Learn_Triton.ipynb\" target=\"_parent\"><img src=\"https://colab.research.google.com/assets/colab-badge.svg\" alt=\"Open In Colab\"/></a>"
      ]
    },
    {
      "cell_type": "code",
      "source": [
        "!pip install triton"
      ],
      "metadata": {
        "colab": {
          "base_uri": "https://localhost:8080/"
        },
        "id": "EyQXRo1JnCnZ",
        "outputId": "c2930193-f88b-4f0a-eddf-6d020d798ea5"
      },
      "execution_count": null,
      "outputs": [
        {
          "output_type": "stream",
          "name": "stdout",
          "text": [
            "Collecting triton\n",
            "  Downloading triton-3.1.0-cp310-cp310-manylinux_2_17_x86_64.manylinux2014_x86_64.whl.metadata (1.3 kB)\n",
            "Requirement already satisfied: filelock in /usr/local/lib/python3.10/dist-packages (from triton) (3.16.1)\n",
            "Downloading triton-3.1.0-cp310-cp310-manylinux_2_17_x86_64.manylinux2014_x86_64.whl (209.5 MB)\n",
            "\u001b[2K   \u001b[90m━━━━━━━━━━━━━━━━━━━━━━━━━━━━━━━━━━━━━━━━\u001b[0m \u001b[32m209.5/209.5 MB\u001b[0m \u001b[31m6.0 MB/s\u001b[0m eta \u001b[36m0:00:00\u001b[0m\n",
            "\u001b[?25hInstalling collected packages: triton\n",
            "Successfully installed triton-3.1.0\n"
          ]
        }
      ]
    },
    {
      "cell_type": "code",
      "execution_count": null,
      "metadata": {
        "id": "rsqazg8Omml5"
      },
      "outputs": [],
      "source": [
        "import triton\n",
        "import triton.language as tl\n",
        "import torch"
      ]
    },
    {
      "cell_type": "code",
      "source": [
        "x = torch.randn(32, 64)"
      ],
      "metadata": {
        "id": "tWVuFVCJ9WI8"
      },
      "execution_count": null,
      "outputs": []
    },
    {
      "cell_type": "code",
      "source": [
        "@triton.jit\n",
        "def layer_norm_forward(\n",
        "    input_ptr, # Pointer to input, 2D\n",
        "    output_ptr, # Pointer to output, 2D\n",
        "    weight_ptr, # Pointer to weights, shape : (num_cols, 1)\n",
        "    bias_ptr, # Pointer to biases, shape : (num_cols, 1)\n",
        "    mean_vector_ptr, # Row-wise mean, shape:(num_rows, 1)\n",
        "    rstd_ptr, # Row-wise reciprocal of standard deviation, shape:(num_rows, 1)\n",
        "    row_stride,\n",
        "    num_cols,\n",
        "    epsilon, # For numerical stability\n",
        "    BLOCK_SIZE:tl.constexpr,\n",
        "  ):\n",
        "\n",
        "  pid = tl.program_id(0)\n",
        "  input_ptr += pid * row_stride\n",
        "  output_ptr = pid * row_stride\n",
        "\n",
        "  for offset in range(0, num_cols, BLOCK_SIZE):\n",
        "    offsets = offset + tl.arange(0, BLOCK_SIZE)\n",
        "    mask = offsets < num_cols\n",
        "    row_segment = tl.load(input_ptr + offset, mask=mask, other=0.0)\n",
        "    mean_segment = tl.sum(row_segment, axis=0)\n",
        "\n",
        "  row_mean = tl.sum(mean_segment, axis=0)\n",
        "\n",
        "  row = tl.load(input_ptr + offsets)"
      ],
      "metadata": {
        "id": "bbJmLpAB9ebY"
      },
      "execution_count": null,
      "outputs": []
    }
  ]
}